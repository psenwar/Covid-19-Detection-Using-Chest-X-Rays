{
  "nbformat": 4,
  "nbformat_minor": 0,
  "metadata": {
    "colab": {
      "name": "COVID Chest X Ray (ResNet50)",
      "provenance": [],
      "collapsed_sections": [],
      "authorship_tag": "ABX9TyOSoLaddd6nsR2V8j/rMiC2",
      "include_colab_link": true
    },
    "kernelspec": {
      "name": "python3",
      "display_name": "Python 3"
    },
    "language_info": {
      "name": "python"
    },
    "accelerator": "GPU"
  },
  "cells": [
    {
      "cell_type": "markdown",
      "metadata": {
        "id": "view-in-github",
        "colab_type": "text"
      },
      "source": [
        "<a href=\"https://colab.research.google.com/github/dwaipayan05/CovCNN-WebApp/blob/main/COVID_Chest_X_Ray_(ResNet50).ipynb\" target=\"_parent\"><img src=\"https://colab.research.google.com/assets/colab-badge.svg\" alt=\"Open In Colab\"/></a>"
      ]
    },
    {
      "cell_type": "code",
      "metadata": {
        "colab": {
          "base_uri": "https://localhost:8080/"
        },
        "id": "8b9DCikpmmKp",
        "outputId": "d28396be-1ea0-4517-8073-285914ca8157"
      },
      "source": [
        "from google.colab import drive\n",
        "drive.mount('/content/gdrive')"
      ],
      "execution_count": null,
      "outputs": [
        {
          "output_type": "stream",
          "text": [
            "Mounted at /content/gdrive\n"
          ],
          "name": "stdout"
        }
      ]
    },
    {
      "cell_type": "markdown",
      "metadata": {
        "id": "mNz1rfK3xpmR"
      },
      "source": [
        "**Import Necessary Libraries**"
      ]
    },
    {
      "cell_type": "code",
      "metadata": {
        "id": "ySGlFOelnaHr"
      },
      "source": [
        "import os\n",
        "import pandas as pd\n",
        "import numpy as np\n",
        "from tqdm import tqdm\n",
        "import keras\n",
        "from keras.utils.np_utils import to_categorical\n",
        "import cv2\n",
        "import tensorflow as tf\n",
        "from sklearn.model_selection import train_test_split\n",
        "from keras.layers import  Flatten, Dense, Dropout\n",
        "from keras.callbacks import ModelCheckpoint, ReduceLROnPlateau\n",
        "from keras.applications import ResNet50\n",
        "from keras.models import Model, Input\n",
        "from keras import optimizers\n",
        "from keras.optimizers import Adam\n",
        "from keras.layers import Dense, GlobalAveragePooling2D\n",
        "from keras.layers import Dense, Dropout, Flatten, Conv2D, MaxPool2D, BatchNormalization, AveragePooling2D, GlobalAveragePooling2D\n",
        "import keras_preprocessing\n",
        "from keras_preprocessing import image\n",
        "from keras_preprocessing.image import ImageDataGenerator\n",
        "from keras import callbacks\n",
        "import matplotlib.pyplot as plt\n",
        "from sklearn.metrics import confusion_matrix\n",
        "import seaborn as sns"
      ],
      "execution_count": null,
      "outputs": []
    },
    {
      "cell_type": "code",
      "metadata": {
        "colab": {
          "base_uri": "https://localhost:8080/"
        },
        "id": "JjQ_O1JKyH9s",
        "outputId": "728f020d-a665-4bd1-9fa9-94fd68953240"
      },
      "source": [
        "%tensorflow_version 2.x\n",
        "print(tf.__version__)\n",
        "print(tf.test.gpu_device_name())\n",
        "print(\"Num GPUs Available: \", len(tf.config.experimental.list_physical_devices('GPU')))"
      ],
      "execution_count": null,
      "outputs": [
        {
          "output_type": "stream",
          "text": [
            "2.4.1\n",
            "/device:GPU:0\n",
            "Num GPUs Available:  1\n"
          ],
          "name": "stdout"
        }
      ]
    },
    {
      "cell_type": "code",
      "metadata": {
        "colab": {
          "base_uri": "https://localhost:8080/"
        },
        "id": "EKkU8wRhOzdr",
        "outputId": "a18accd7-c0fd-4d4f-803a-1a230df24d5c"
      },
      "source": [
        "%cd /content/gdrive/\"My Drive\"/\"COVID Chest X-Ray Analysis\""
      ],
      "execution_count": null,
      "outputs": [
        {
          "output_type": "stream",
          "text": [
            "/content/gdrive/My Drive/COVID Chest X-Ray Analysis\n"
          ],
          "name": "stdout"
        }
      ]
    },
    {
      "cell_type": "markdown",
      "metadata": {
        "id": "bWbeeYIyqt8N"
      },
      "source": [
        "**Fetch Dataset**"
      ]
    },
    {
      "cell_type": "code",
      "metadata": {
        "id": "m5E01jOvmmcR",
        "colab": {
          "base_uri": "https://localhost:8080/"
        },
        "outputId": "5ec5b891-06e7-4f46-ca95-6dee95931059"
      },
      "source": [
        "os.environ['KAGGLE_CONFIG_DIR'] = \"/content/gdrive/MyDrive/COVID Chest X-Ray Analysis\"\n",
        "!kaggle datasets download -d plameneduardo/sarscov2-ctscan-dataset\n",
        "!unzip \\*.zip  && rm *.zip"
      ],
      "execution_count": null,
      "outputs": [
        {
          "output_type": "stream",
          "text": [
            "/content/gdrive/My Drive/COVID Chest X-Ray Analysis\n",
            "sarscov2-ctscan-dataset.zip: Skipping, found more recently modified local copy (use --force to force download)\n",
            "Archive:  sarscov2-ctscan-dataset.zip\n",
            "  End-of-central-directory signature not found.  Either this file is not\n",
            "  a zipfile, or it constitutes one disk of a multi-part archive.  In the\n",
            "  latter case the central directory and zipfile comment will be found on\n",
            "  the last disk(s) of this archive.\n",
            "unzip:  cannot find zipfile directory in one of *.zip or\n",
            "        *.zip.zip, and cannot find sarscov2-ctscan-dataset.zip.ZIP, period.\n",
            "\n",
            "No zipfiles found.\n"
          ],
          "name": "stdout"
        }
      ]
    },
    {
      "cell_type": "markdown",
      "metadata": {
        "id": "q9O49obFxttu"
      },
      "source": [
        "**Split Into Train Data & Test Data**"
      ]
    },
    {
      "cell_type": "code",
      "metadata": {
        "id": "5BPRbgW4nn3e"
      },
      "source": [
        "disease_types=['COVID', 'non-COVID']\n",
        "data_dir = '/content/gdrive/MyDrive/COVID Chest X-Ray Analysis/Dataset'\n",
        "train_dir = os.path.join(data_dir)"
      ],
      "execution_count": null,
      "outputs": []
    },
    {
      "cell_type": "code",
      "metadata": {
        "id": "fMQE6EEMrniq"
      },
      "source": [
        "train_data = []\n",
        "for defects_id, sp in enumerate(disease_types):\n",
        "    for file in os.listdir(os.path.join(train_dir, sp)):\n",
        "        train_data.append(['{}/{}'.format(sp, file), defects_id, sp])      \n",
        "train = pd.DataFrame(train_data, columns=['File', 'DiseaseID','Disease Type'])"
      ],
      "execution_count": null,
      "outputs": []
    },
    {
      "cell_type": "code",
      "metadata": {
        "id": "bOA185RhroWb"
      },
      "source": [
        "IMAGE_SIZE = 64\n",
        "def read_image(filepath):\n",
        "    return cv2.imread(os.path.join(data_dir, filepath)) \n",
        "def resize_image(image, image_size):\n",
        "    return cv2.resize(image.copy(), image_size, interpolation=cv2.INTER_AREA)"
      ],
      "execution_count": null,
      "outputs": []
    },
    {
      "cell_type": "code",
      "metadata": {
        "colab": {
          "base_uri": "https://localhost:8080/"
        },
        "id": "w0aI-ZCor8lr",
        "outputId": "c5bf5a26-448e-4195-b9f6-2125deef8e81"
      },
      "source": [
        "X_train = np.zeros((train.shape[0], IMAGE_SIZE, IMAGE_SIZE, 3))\n",
        "for i, file in tqdm(enumerate(train['File'].values)):\n",
        "    image = read_image(file)\n",
        "    if image is not None:\n",
        "        X_train[i] = resize_image(image, (IMAGE_SIZE, IMAGE_SIZE))\n",
        "X_Train = X_train / 255.\n",
        "print(X_Train.shape)"
      ],
      "execution_count": null,
      "outputs": [
        {
          "output_type": "stream",
          "text": [
            "2481it [00:12, 196.45it/s]\n"
          ],
          "name": "stderr"
        },
        {
          "output_type": "stream",
          "text": [
            "(2481, 64, 64, 3)\n"
          ],
          "name": "stdout"
        }
      ]
    },
    {
      "cell_type": "code",
      "metadata": {
        "id": "yvlrhwtXr9uo"
      },
      "source": [
        "Y_train = train['DiseaseID'].values\n",
        "Y_train = to_categorical(Y_train, num_classes=2)"
      ],
      "execution_count": null,
      "outputs": []
    },
    {
      "cell_type": "code",
      "metadata": {
        "id": "aa3zZ55CsBqm"
      },
      "source": [
        "X_train, X_val, Y_train, Y_val = train_test_split(X_Train, Y_train, test_size=0.2, random_state = 42)"
      ],
      "execution_count": null,
      "outputs": []
    },
    {
      "cell_type": "markdown",
      "metadata": {
        "id": "TcaWuy-DxxuJ"
      },
      "source": [
        "**Define VGG16 Model Architecture**"
      ]
    },
    {
      "cell_type": "code",
      "metadata": {
        "id": "OLERkmn6_4-M"
      },
      "source": [
        "BATCH_SIZE = 64\n",
        "EPOCHS = 100\n",
        "SIZE=64\n",
        "N_ch=3"
      ],
      "execution_count": null,
      "outputs": []
    },
    {
      "cell_type": "code",
      "metadata": {
        "id": "PTzIgz1xsC6s"
      },
      "source": [
        "def build_resnet50():\n",
        "    resnet50 = ResNet50(weights='imagenet', include_top=False)\n",
        "\n",
        "    input = Input(shape=(SIZE, SIZE, N_ch))\n",
        "    x = Conv2D(3, (3, 3), padding='same')(input)\n",
        "    \n",
        "    x = resnet50(x)\n",
        "    \n",
        "    x = GlobalAveragePooling2D()(x)\n",
        "    x = BatchNormalization()(x)\n",
        "    x = Dropout(0.5)(x)\n",
        "    x = Dense(256, activation='relu')(x)\n",
        "    x = BatchNormalization()(x)\n",
        "    x = Dropout(0.5)(x)\n",
        "\n",
        "    # multi output\n",
        "    output = Dense(2,activation = 'softmax', name='root')(x)\n",
        " \n",
        "\n",
        "    # model\n",
        "    model = Model(input,output)\n",
        "    \n",
        "    optimizer = Adam(lr=0.003, beta_1=0.9, beta_2=0.999, epsilon=0.1, decay=0.0)\n",
        "    model.compile(loss='categorical_crossentropy', optimizer=optimizer, metrics=['accuracy'])\n",
        "    model.summary()\n",
        "    \n",
        "    return model"
      ],
      "execution_count": null,
      "outputs": []
    },
    {
      "cell_type": "markdown",
      "metadata": {
        "id": "l0e-97zBx1tX"
      },
      "source": [
        "**Train the Model**"
      ]
    },
    {
      "cell_type": "code",
      "metadata": {
        "id": "YHjD6EQSsFC_",
        "colab": {
          "base_uri": "https://localhost:8080/"
        },
        "outputId": "f66e0382-7afd-44fb-958e-855356eab5d7"
      },
      "source": [
        "model = build_resnet50()\n",
        "annealer = ReduceLROnPlateau(monitor='val_accuracy', factor=0.70, patience=5, verbose=1, min_lr=1e-4)\n",
        "checkpoint = ModelCheckpoint('ResNet50_Model.hdf5', verbose=1, save_best_only=True)\n",
        "datagen = ImageDataGenerator(rotation_range=360, \n",
        "                        width_shift_range=0.2, \n",
        "                        height_shift_range=0.2,\n",
        "                        zoom_range=0.2, \n",
        "                        horizontal_flip=True, \n",
        "                        vertical_flip=True) \n",
        "\n",
        "datagen.fit(X_train)"
      ],
      "execution_count": null,
      "outputs": [
        {
          "output_type": "stream",
          "text": [
            "Model: \"model_6\"\n",
            "_________________________________________________________________\n",
            "Layer (type)                 Output Shape              Param #   \n",
            "=================================================================\n",
            "input_14 (InputLayer)        [(None, 64, 64, 3)]       0         \n",
            "_________________________________________________________________\n",
            "conv2d_4 (Conv2D)            (None, 64, 64, 3)         84        \n",
            "_________________________________________________________________\n",
            "resnet50 (Functional)        (None, None, None, 2048)  23587712  \n",
            "_________________________________________________________________\n",
            "global_average_pooling2d_6 ( (None, 2048)              0         \n",
            "_________________________________________________________________\n",
            "batch_normalization_12 (Batc (None, 2048)              8192      \n",
            "_________________________________________________________________\n",
            "dropout_12 (Dropout)         (None, 2048)              0         \n",
            "_________________________________________________________________\n",
            "dense_8 (Dense)              (None, 256)               524544    \n",
            "_________________________________________________________________\n",
            "batch_normalization_13 (Batc (None, 256)               1024      \n",
            "_________________________________________________________________\n",
            "dropout_13 (Dropout)         (None, 256)               0         \n",
            "_________________________________________________________________\n",
            "root (Dense)                 (None, 2)                 514       \n",
            "=================================================================\n",
            "Total params: 24,122,070\n",
            "Trainable params: 24,064,342\n",
            "Non-trainable params: 57,728\n",
            "_________________________________________________________________\n"
          ],
          "name": "stdout"
        }
      ]
    },
    {
      "cell_type": "code",
      "metadata": {
        "colab": {
          "base_uri": "https://localhost:8080/"
        },
        "id": "q3WI0Ac7Apcm",
        "outputId": "401bd169-9380-4de8-d22c-71f67ffa9a26"
      },
      "source": [
        "history = model.fit_generator(datagen.flow(X_train, Y_train, batch_size=BATCH_SIZE),\n",
        "               steps_per_epoch=X_train.shape[0] // BATCH_SIZE,\n",
        "               epochs=EPOCHS,\n",
        "               verbose=1,\n",
        "               callbacks=[annealer, checkpoint],\n",
        "               validation_data=(X_val, Y_val))"
      ],
      "execution_count": null,
      "outputs": [
        {
          "output_type": "stream",
          "text": [
            "/usr/local/lib/python3.7/dist-packages/tensorflow/python/keras/engine/training.py:1844: UserWarning: `Model.fit_generator` is deprecated and will be removed in a future version. Please use `Model.fit`, which supports generators.\n",
            "  warnings.warn('`Model.fit_generator` is deprecated and '\n"
          ],
          "name": "stderr"
        },
        {
          "output_type": "stream",
          "text": [
            "Epoch 1/100\n",
            "31/31 [==============================] - 9s 138ms/step - loss: 1.3277 - accuracy: 0.4863 - val_loss: 2.8942 - val_accuracy: 0.5191\n",
            "\n",
            "Epoch 00001: val_loss improved from inf to 2.89421, saving model to ResNet50_Model.hdf5\n",
            "Epoch 2/100\n",
            "31/31 [==============================] - 4s 110ms/step - loss: 1.1488 - accuracy: 0.5424 - val_loss: 4.1750 - val_accuracy: 0.5191\n",
            "\n",
            "Epoch 00002: val_loss did not improve from 2.89421\n",
            "Epoch 3/100\n",
            "31/31 [==============================] - 3s 110ms/step - loss: 0.9936 - accuracy: 0.5876 - val_loss: 0.7560 - val_accuracy: 0.4809\n",
            "\n",
            "Epoch 00003: val_loss improved from 2.89421 to 0.75597, saving model to ResNet50_Model.hdf5\n",
            "Epoch 4/100\n",
            "31/31 [==============================] - 4s 112ms/step - loss: 0.8336 - accuracy: 0.6439 - val_loss: 1.1610 - val_accuracy: 0.4809\n",
            "\n",
            "Epoch 00004: val_loss did not improve from 0.75597\n",
            "Epoch 5/100\n",
            "31/31 [==============================] - 3s 111ms/step - loss: 0.8216 - accuracy: 0.6423 - val_loss: 6.6333 - val_accuracy: 0.5191\n",
            "\n",
            "Epoch 00005: val_loss did not improve from 0.75597\n",
            "Epoch 6/100\n",
            "31/31 [==============================] - 4s 123ms/step - loss: 0.6884 - accuracy: 0.6547 - val_loss: 21.0269 - val_accuracy: 0.4809\n",
            "\n",
            "Epoch 00006: ReduceLROnPlateau reducing learning rate to 0.002100000018253922.\n",
            "\n",
            "Epoch 00006: val_loss did not improve from 0.75597\n",
            "Epoch 7/100\n",
            "31/31 [==============================] - 4s 121ms/step - loss: 0.6630 - accuracy: 0.6906 - val_loss: 4.0216 - val_accuracy: 0.4809\n",
            "\n",
            "Epoch 00007: val_loss did not improve from 0.75597\n",
            "Epoch 8/100\n",
            "31/31 [==============================] - 3s 110ms/step - loss: 0.6382 - accuracy: 0.6881 - val_loss: 1.3985 - val_accuracy: 0.5191\n",
            "\n",
            "Epoch 00008: val_loss did not improve from 0.75597\n",
            "Epoch 9/100\n",
            "31/31 [==============================] - 4s 112ms/step - loss: 0.5891 - accuracy: 0.7107 - val_loss: 3.2307 - val_accuracy: 0.5191\n",
            "\n",
            "Epoch 00009: val_loss did not improve from 0.75597\n",
            "Epoch 10/100\n",
            "31/31 [==============================] - 3s 110ms/step - loss: 0.5615 - accuracy: 0.7275 - val_loss: 0.7091 - val_accuracy: 0.4829\n",
            "\n",
            "Epoch 00010: val_loss improved from 0.75597 to 0.70913, saving model to ResNet50_Model.hdf5\n",
            "Epoch 11/100\n",
            "31/31 [==============================] - 4s 112ms/step - loss: 0.5178 - accuracy: 0.7583 - val_loss: 0.7371 - val_accuracy: 0.4809\n",
            "\n",
            "Epoch 00011: ReduceLROnPlateau reducing learning rate to 0.0014699999475851653.\n",
            "\n",
            "Epoch 00011: val_loss did not improve from 0.70913\n",
            "Epoch 12/100\n",
            "31/31 [==============================] - 3s 110ms/step - loss: 0.5213 - accuracy: 0.7526 - val_loss: 0.8949 - val_accuracy: 0.4809\n",
            "\n",
            "Epoch 00012: val_loss did not improve from 0.70913\n",
            "Epoch 13/100\n",
            "31/31 [==============================] - 4s 127ms/step - loss: 0.5174 - accuracy: 0.7656 - val_loss: 0.9009 - val_accuracy: 0.4809\n",
            "\n",
            "Epoch 00013: val_loss did not improve from 0.70913\n",
            "Epoch 14/100\n",
            "31/31 [==============================] - 4s 115ms/step - loss: 0.4580 - accuracy: 0.7886 - val_loss: 0.8582 - val_accuracy: 0.4809\n",
            "\n",
            "Epoch 00014: val_loss did not improve from 0.70913\n",
            "Epoch 15/100\n",
            "31/31 [==============================] - 3s 110ms/step - loss: 0.4370 - accuracy: 0.8013 - val_loss: 0.8172 - val_accuracy: 0.4809\n",
            "\n",
            "Epoch 00015: val_loss did not improve from 0.70913\n",
            "Epoch 16/100\n",
            "31/31 [==============================] - 3s 110ms/step - loss: 0.4283 - accuracy: 0.7937 - val_loss: 0.8156 - val_accuracy: 0.4809\n",
            "\n",
            "Epoch 00016: ReduceLROnPlateau reducing learning rate to 0.0010289999307133257.\n",
            "\n",
            "Epoch 00016: val_loss did not improve from 0.70913\n",
            "Epoch 17/100\n",
            "31/31 [==============================] - 4s 112ms/step - loss: 0.4328 - accuracy: 0.7981 - val_loss: 0.6859 - val_accuracy: 0.5614\n",
            "\n",
            "Epoch 00017: val_loss improved from 0.70913 to 0.68591, saving model to ResNet50_Model.hdf5\n",
            "Epoch 18/100\n",
            "31/31 [==============================] - 4s 114ms/step - loss: 0.4134 - accuracy: 0.8065 - val_loss: 0.6932 - val_accuracy: 0.5312\n",
            "\n",
            "Epoch 00018: val_loss did not improve from 0.68591\n",
            "Epoch 19/100\n",
            "31/31 [==============================] - 3s 110ms/step - loss: 0.4221 - accuracy: 0.8111 - val_loss: 0.7195 - val_accuracy: 0.4950\n",
            "\n",
            "Epoch 00019: val_loss did not improve from 0.68591\n",
            "Epoch 20/100\n",
            "31/31 [==============================] - 4s 142ms/step - loss: 0.4156 - accuracy: 0.8243 - val_loss: 0.7447 - val_accuracy: 0.4809\n",
            "\n",
            "Epoch 00020: val_loss did not improve from 0.68591\n",
            "Epoch 21/100\n",
            "31/31 [==============================] - 3s 111ms/step - loss: 0.4224 - accuracy: 0.8149 - val_loss: 0.7086 - val_accuracy: 0.4728\n",
            "\n",
            "Epoch 00021: val_loss did not improve from 0.68591\n",
            "Epoch 22/100\n",
            "31/31 [==============================] - 3s 110ms/step - loss: 0.4135 - accuracy: 0.8197 - val_loss: 0.6917 - val_accuracy: 0.5292\n",
            "\n",
            "Epoch 00022: ReduceLROnPlateau reducing learning rate to 0.0007202999433502554.\n",
            "\n",
            "Epoch 00022: val_loss did not improve from 0.68591\n",
            "Epoch 23/100\n",
            "31/31 [==============================] - 3s 111ms/step - loss: 0.4032 - accuracy: 0.8120 - val_loss: 0.6815 - val_accuracy: 0.5252\n",
            "\n",
            "Epoch 00023: val_loss improved from 0.68591 to 0.68152, saving model to ResNet50_Model.hdf5\n",
            "Epoch 24/100\n",
            "31/31 [==============================] - 4s 114ms/step - loss: 0.3837 - accuracy: 0.8186 - val_loss: 0.6816 - val_accuracy: 0.5050\n",
            "\n",
            "Epoch 00024: val_loss did not improve from 0.68152\n",
            "Epoch 25/100\n",
            "31/31 [==============================] - 3s 110ms/step - loss: 0.4038 - accuracy: 0.8198 - val_loss: 0.6733 - val_accuracy: 0.5151\n",
            "\n",
            "Epoch 00025: val_loss improved from 0.68152 to 0.67326, saving model to ResNet50_Model.hdf5\n",
            "Epoch 26/100\n",
            "31/31 [==============================] - 4s 111ms/step - loss: 0.3862 - accuracy: 0.8293 - val_loss: 0.6539 - val_accuracy: 0.5493\n",
            "\n",
            "Epoch 00026: val_loss improved from 0.67326 to 0.65387, saving model to ResNet50_Model.hdf5\n",
            "Epoch 27/100\n",
            "31/31 [==============================] - 4s 111ms/step - loss: 0.3823 - accuracy: 0.8465 - val_loss: 0.6217 - val_accuracy: 0.6398\n",
            "\n",
            "Epoch 00027: val_loss improved from 0.65387 to 0.62173, saving model to ResNet50_Model.hdf5\n",
            "Epoch 28/100\n",
            "31/31 [==============================] - 4s 113ms/step - loss: 0.3876 - accuracy: 0.8328 - val_loss: 0.5735 - val_accuracy: 0.7022\n",
            "\n",
            "Epoch 00028: val_loss improved from 0.62173 to 0.57354, saving model to ResNet50_Model.hdf5\n",
            "Epoch 29/100\n",
            "31/31 [==============================] - 4s 111ms/step - loss: 0.3840 - accuracy: 0.8360 - val_loss: 0.5283 - val_accuracy: 0.7304\n",
            "\n",
            "Epoch 00029: val_loss improved from 0.57354 to 0.52831, saving model to ResNet50_Model.hdf5\n",
            "Epoch 30/100\n",
            "31/31 [==============================] - 4s 114ms/step - loss: 0.3774 - accuracy: 0.8376 - val_loss: 0.5130 - val_accuracy: 0.7203\n",
            "\n",
            "Epoch 00030: val_loss improved from 0.52831 to 0.51295, saving model to ResNet50_Model.hdf5\n",
            "Epoch 31/100\n",
            "31/31 [==============================] - 4s 113ms/step - loss: 0.3739 - accuracy: 0.8258 - val_loss: 0.5577 - val_accuracy: 0.7203\n",
            "\n",
            "Epoch 00031: val_loss did not improve from 0.51295\n",
            "Epoch 32/100\n",
            "31/31 [==============================] - 4s 112ms/step - loss: 0.3758 - accuracy: 0.8292 - val_loss: 0.7172 - val_accuracy: 0.6640\n",
            "\n",
            "Epoch 00032: val_loss did not improve from 0.51295\n",
            "Epoch 33/100\n",
            "31/31 [==============================] - 4s 140ms/step - loss: 0.3630 - accuracy: 0.8380 - val_loss: 0.6176 - val_accuracy: 0.7344\n",
            "\n",
            "Epoch 00033: val_loss did not improve from 0.51295\n",
            "Epoch 34/100\n",
            "31/31 [==============================] - 4s 112ms/step - loss: 0.3312 - accuracy: 0.8490 - val_loss: 0.8177 - val_accuracy: 0.7082\n",
            "\n",
            "Epoch 00034: val_loss did not improve from 0.51295\n",
            "Epoch 35/100\n",
            "31/31 [==============================] - 3s 110ms/step - loss: 0.3361 - accuracy: 0.8453 - val_loss: 0.9258 - val_accuracy: 0.6821\n",
            "\n",
            "Epoch 00035: val_loss did not improve from 0.51295\n",
            "Epoch 36/100\n",
            "31/31 [==============================] - 4s 112ms/step - loss: 0.3584 - accuracy: 0.8428 - val_loss: 0.8996 - val_accuracy: 0.6922\n",
            "\n",
            "Epoch 00036: val_loss did not improve from 0.51295\n",
            "Epoch 37/100\n",
            "31/31 [==============================] - 3s 110ms/step - loss: 0.3158 - accuracy: 0.8610 - val_loss: 1.2374 - val_accuracy: 0.6479\n",
            "\n",
            "Epoch 00037: val_loss did not improve from 0.51295\n",
            "Epoch 38/100\n",
            "31/31 [==============================] - 3s 110ms/step - loss: 0.3579 - accuracy: 0.8548 - val_loss: 0.8773 - val_accuracy: 0.7002\n",
            "\n",
            "Epoch 00038: ReduceLROnPlateau reducing learning rate to 0.0005042099684942513.\n",
            "\n",
            "Epoch 00038: val_loss did not improve from 0.51295\n",
            "Epoch 39/100\n",
            "31/31 [==============================] - 4s 112ms/step - loss: 0.3619 - accuracy: 0.8415 - val_loss: 0.9042 - val_accuracy: 0.7022\n",
            "\n",
            "Epoch 00039: val_loss did not improve from 0.51295\n",
            "Epoch 40/100\n",
            "31/31 [==============================] - 3s 110ms/step - loss: 0.3324 - accuracy: 0.8646 - val_loss: 0.7628 - val_accuracy: 0.7284\n",
            "\n",
            "Epoch 00040: val_loss did not improve from 0.51295\n",
            "Epoch 41/100\n",
            "31/31 [==============================] - 3s 110ms/step - loss: 0.3291 - accuracy: 0.8621 - val_loss: 0.8535 - val_accuracy: 0.7103\n",
            "\n",
            "Epoch 00041: val_loss did not improve from 0.51295\n",
            "Epoch 42/100\n",
            "31/31 [==============================] - 3s 110ms/step - loss: 0.3545 - accuracy: 0.8528 - val_loss: 0.5141 - val_accuracy: 0.7968\n",
            "\n",
            "Epoch 00042: val_loss did not improve from 0.51295\n",
            "Epoch 43/100\n",
            "31/31 [==============================] - 3s 110ms/step - loss: 0.3287 - accuracy: 0.8547 - val_loss: 0.4191 - val_accuracy: 0.8270\n",
            "\n",
            "Epoch 00043: val_loss improved from 0.51295 to 0.41914, saving model to ResNet50_Model.hdf5\n",
            "Epoch 44/100\n",
            "31/31 [==============================] - 4s 112ms/step - loss: 0.3333 - accuracy: 0.8590 - val_loss: 0.3138 - val_accuracy: 0.8793\n",
            "\n",
            "Epoch 00044: val_loss improved from 0.41914 to 0.31380, saving model to ResNet50_Model.hdf5\n",
            "Epoch 45/100\n",
            "31/31 [==============================] - 4s 112ms/step - loss: 0.3370 - accuracy: 0.8445 - val_loss: 0.3574 - val_accuracy: 0.8551\n",
            "\n",
            "Epoch 00045: val_loss did not improve from 0.31380\n",
            "Epoch 46/100\n",
            "31/31 [==============================] - 3s 111ms/step - loss: 0.3466 - accuracy: 0.8450 - val_loss: 0.3054 - val_accuracy: 0.8692\n",
            "\n",
            "Epoch 00046: val_loss improved from 0.31380 to 0.30538, saving model to ResNet50_Model.hdf5\n",
            "Epoch 47/100\n",
            "31/31 [==============================] - 4s 112ms/step - loss: 0.3092 - accuracy: 0.8779 - val_loss: 0.3236 - val_accuracy: 0.8652\n",
            "\n",
            "Epoch 00047: val_loss did not improve from 0.30538\n",
            "Epoch 48/100\n",
            "31/31 [==============================] - 3s 110ms/step - loss: 0.3173 - accuracy: 0.8568 - val_loss: 0.2819 - val_accuracy: 0.8893\n",
            "\n",
            "Epoch 00048: val_loss improved from 0.30538 to 0.28193, saving model to ResNet50_Model.hdf5\n",
            "Epoch 49/100\n",
            "31/31 [==============================] - 4s 111ms/step - loss: 0.3391 - accuracy: 0.8646 - val_loss: 0.2939 - val_accuracy: 0.8773\n",
            "\n",
            "Epoch 00049: val_loss did not improve from 0.28193\n",
            "Epoch 50/100\n",
            "31/31 [==============================] - 4s 127ms/step - loss: 0.3069 - accuracy: 0.8542 - val_loss: 0.3144 - val_accuracy: 0.8853\n",
            "\n",
            "Epoch 00050: val_loss did not improve from 0.28193\n",
            "Epoch 51/100\n",
            "31/31 [==============================] - 4s 116ms/step - loss: 0.3353 - accuracy: 0.8601 - val_loss: 0.2918 - val_accuracy: 0.9034\n",
            "\n",
            "Epoch 00051: val_loss did not improve from 0.28193\n",
            "Epoch 52/100\n",
            "31/31 [==============================] - 3s 111ms/step - loss: 0.3265 - accuracy: 0.8603 - val_loss: 0.2824 - val_accuracy: 0.8893\n",
            "\n",
            "Epoch 00052: val_loss did not improve from 0.28193\n",
            "Epoch 53/100\n",
            "31/31 [==============================] - 3s 111ms/step - loss: 0.3125 - accuracy: 0.8709 - val_loss: 0.2814 - val_accuracy: 0.8813\n",
            "\n",
            "Epoch 00053: val_loss improved from 0.28193 to 0.28142, saving model to ResNet50_Model.hdf5\n",
            "Epoch 54/100\n",
            "31/31 [==============================] - 4s 114ms/step - loss: 0.3173 - accuracy: 0.8608 - val_loss: 0.3191 - val_accuracy: 0.8592\n",
            "\n",
            "Epoch 00054: val_loss did not improve from 0.28142\n",
            "Epoch 55/100\n",
            "31/31 [==============================] - 4s 112ms/step - loss: 0.3364 - accuracy: 0.8550 - val_loss: 0.3436 - val_accuracy: 0.8612\n",
            "\n",
            "Epoch 00055: val_loss did not improve from 0.28142\n",
            "Epoch 56/100\n",
            "31/31 [==============================] - 4s 143ms/step - loss: 0.3028 - accuracy: 0.8756 - val_loss: 0.3401 - val_accuracy: 0.8672\n",
            "\n",
            "Epoch 00056: ReduceLROnPlateau reducing learning rate to 0.0003529469657223671.\n",
            "\n",
            "Epoch 00056: val_loss did not improve from 0.28142\n",
            "Epoch 57/100\n",
            "31/31 [==============================] - 3s 110ms/step - loss: 0.3150 - accuracy: 0.8693 - val_loss: 0.2678 - val_accuracy: 0.8974\n",
            "\n",
            "Epoch 00057: val_loss improved from 0.28142 to 0.26781, saving model to ResNet50_Model.hdf5\n",
            "Epoch 58/100\n",
            "31/31 [==============================] - 4s 113ms/step - loss: 0.3116 - accuracy: 0.8655 - val_loss: 0.3126 - val_accuracy: 0.8732\n",
            "\n",
            "Epoch 00058: val_loss did not improve from 0.26781\n",
            "Epoch 59/100\n",
            "31/31 [==============================] - 3s 111ms/step - loss: 0.3234 - accuracy: 0.8541 - val_loss: 0.3909 - val_accuracy: 0.8330\n",
            "\n",
            "Epoch 00059: val_loss did not improve from 0.26781\n",
            "Epoch 60/100\n",
            "31/31 [==============================] - 4s 137ms/step - loss: 0.2975 - accuracy: 0.8846 - val_loss: 0.2693 - val_accuracy: 0.8913\n",
            "\n",
            "Epoch 00060: val_loss did not improve from 0.26781\n",
            "Epoch 61/100\n",
            "31/31 [==============================] - 3s 111ms/step - loss: 0.3003 - accuracy: 0.8806 - val_loss: 0.2719 - val_accuracy: 0.8893\n",
            "\n",
            "Epoch 00061: ReduceLROnPlateau reducing learning rate to 0.0002470628678565845.\n",
            "\n",
            "Epoch 00061: val_loss did not improve from 0.26781\n",
            "Epoch 62/100\n",
            "31/31 [==============================] - 4s 112ms/step - loss: 0.2812 - accuracy: 0.8759 - val_loss: 0.2657 - val_accuracy: 0.8994\n",
            "\n",
            "Epoch 00062: val_loss improved from 0.26781 to 0.26573, saving model to ResNet50_Model.hdf5\n",
            "Epoch 63/100\n",
            "31/31 [==============================] - 4s 113ms/step - loss: 0.3084 - accuracy: 0.8678 - val_loss: 0.2993 - val_accuracy: 0.8793\n",
            "\n",
            "Epoch 00063: val_loss did not improve from 0.26573\n",
            "Epoch 64/100\n",
            "31/31 [==============================] - 3s 111ms/step - loss: 0.3473 - accuracy: 0.8383 - val_loss: 0.2555 - val_accuracy: 0.9014\n",
            "\n",
            "Epoch 00064: val_loss improved from 0.26573 to 0.25552, saving model to ResNet50_Model.hdf5\n",
            "Epoch 65/100\n",
            "31/31 [==============================] - 4s 111ms/step - loss: 0.3075 - accuracy: 0.8677 - val_loss: 0.2666 - val_accuracy: 0.8913\n",
            "\n",
            "Epoch 00065: val_loss did not improve from 0.25552\n",
            "Epoch 66/100\n",
            "31/31 [==============================] - 3s 112ms/step - loss: 0.2965 - accuracy: 0.8734 - val_loss: 0.4300 - val_accuracy: 0.8149\n",
            "\n",
            "Epoch 00066: ReduceLROnPlateau reducing learning rate to 0.00017294401768594978.\n",
            "\n",
            "Epoch 00066: val_loss did not improve from 0.25552\n",
            "Epoch 67/100\n",
            "31/31 [==============================] - 4s 138ms/step - loss: 0.3101 - accuracy: 0.8596 - val_loss: 0.3172 - val_accuracy: 0.8592\n",
            "\n",
            "Epoch 00067: val_loss did not improve from 0.25552\n",
            "Epoch 68/100\n",
            "31/31 [==============================] - 4s 112ms/step - loss: 0.3194 - accuracy: 0.8659 - val_loss: 0.2600 - val_accuracy: 0.9014\n",
            "\n",
            "Epoch 00068: val_loss did not improve from 0.25552\n",
            "Epoch 69/100\n",
            "31/31 [==============================] - 3s 111ms/step - loss: 0.2854 - accuracy: 0.8806 - val_loss: 0.2593 - val_accuracy: 0.9014\n",
            "\n",
            "Epoch 00069: val_loss did not improve from 0.25552\n",
            "Epoch 70/100\n",
            "31/31 [==============================] - 4s 113ms/step - loss: 0.2802 - accuracy: 0.8861 - val_loss: 0.2538 - val_accuracy: 0.9074\n",
            "\n",
            "Epoch 00070: val_loss improved from 0.25552 to 0.25376, saving model to ResNet50_Model.hdf5\n",
            "Epoch 71/100\n",
            "31/31 [==============================] - 4s 114ms/step - loss: 0.2981 - accuracy: 0.8594 - val_loss: 0.2582 - val_accuracy: 0.9054\n",
            "\n",
            "Epoch 00071: val_loss did not improve from 0.25376\n",
            "Epoch 72/100\n",
            "31/31 [==============================] - 3s 112ms/step - loss: 0.3019 - accuracy: 0.8696 - val_loss: 0.2537 - val_accuracy: 0.9054\n",
            "\n",
            "Epoch 00072: val_loss improved from 0.25376 to 0.25372, saving model to ResNet50_Model.hdf5\n",
            "Epoch 73/100\n",
            "31/31 [==============================] - 4s 112ms/step - loss: 0.3073 - accuracy: 0.8791 - val_loss: 0.2667 - val_accuracy: 0.8994\n",
            "\n",
            "Epoch 00073: val_loss did not improve from 0.25372\n",
            "Epoch 74/100\n",
            "31/31 [==============================] - 4s 113ms/step - loss: 0.3026 - accuracy: 0.8726 - val_loss: 0.2899 - val_accuracy: 0.8712\n",
            "\n",
            "Epoch 00074: val_loss did not improve from 0.25372\n",
            "Epoch 75/100\n",
            "31/31 [==============================] - 4s 122ms/step - loss: 0.3081 - accuracy: 0.8667 - val_loss: 0.3396 - val_accuracy: 0.8511\n",
            "\n",
            "Epoch 00075: ReduceLROnPlateau reducing learning rate to 0.00012106080830562859.\n",
            "\n",
            "Epoch 00075: val_loss did not improve from 0.25372\n",
            "Epoch 76/100\n",
            "31/31 [==============================] - 4s 122ms/step - loss: 0.2802 - accuracy: 0.8771 - val_loss: 0.2860 - val_accuracy: 0.8833\n",
            "\n",
            "Epoch 00076: val_loss did not improve from 0.25372\n",
            "Epoch 77/100\n",
            "31/31 [==============================] - 4s 112ms/step - loss: 0.3015 - accuracy: 0.8654 - val_loss: 0.2526 - val_accuracy: 0.9095\n",
            "\n",
            "Epoch 00077: val_loss improved from 0.25372 to 0.25263, saving model to ResNet50_Model.hdf5\n",
            "Epoch 78/100\n",
            "31/31 [==============================] - 4s 114ms/step - loss: 0.3033 - accuracy: 0.8657 - val_loss: 0.2536 - val_accuracy: 0.9034\n",
            "\n",
            "Epoch 00078: val_loss did not improve from 0.25263\n",
            "Epoch 79/100\n",
            "31/31 [==============================] - 3s 111ms/step - loss: 0.2883 - accuracy: 0.8740 - val_loss: 0.2614 - val_accuracy: 0.9054\n",
            "\n",
            "Epoch 00079: val_loss did not improve from 0.25263\n",
            "Epoch 80/100\n",
            "31/31 [==============================] - 4s 145ms/step - loss: 0.2807 - accuracy: 0.8739 - val_loss: 0.2661 - val_accuracy: 0.8954\n",
            "\n",
            "Epoch 00080: val_loss did not improve from 0.25263\n",
            "Epoch 81/100\n",
            "31/31 [==============================] - 4s 112ms/step - loss: 0.2945 - accuracy: 0.8740 - val_loss: 0.2611 - val_accuracy: 0.9014\n",
            "\n",
            "Epoch 00081: val_loss did not improve from 0.25263\n",
            "Epoch 82/100\n",
            "31/31 [==============================] - 3s 112ms/step - loss: 0.3146 - accuracy: 0.8756 - val_loss: 0.3200 - val_accuracy: 0.8571\n",
            "\n",
            "Epoch 00082: ReduceLROnPlateau reducing learning rate to 0.0001.\n",
            "\n",
            "Epoch 00082: val_loss did not improve from 0.25263\n",
            "Epoch 83/100\n",
            "31/31 [==============================] - 3s 111ms/step - loss: 0.2975 - accuracy: 0.8805 - val_loss: 0.2591 - val_accuracy: 0.9095\n",
            "\n",
            "Epoch 00083: val_loss did not improve from 0.25263\n",
            "Epoch 84/100\n",
            "31/31 [==============================] - 4s 112ms/step - loss: 0.3073 - accuracy: 0.8754 - val_loss: 0.2695 - val_accuracy: 0.9034\n",
            "\n",
            "Epoch 00084: val_loss did not improve from 0.25263\n",
            "Epoch 85/100\n",
            "31/31 [==============================] - 4s 112ms/step - loss: 0.2850 - accuracy: 0.8770 - val_loss: 0.2622 - val_accuracy: 0.9074\n",
            "\n",
            "Epoch 00085: val_loss did not improve from 0.25263\n",
            "Epoch 86/100\n",
            "31/31 [==============================] - 4s 112ms/step - loss: 0.3003 - accuracy: 0.8809 - val_loss: 0.2873 - val_accuracy: 0.8793\n",
            "\n",
            "Epoch 00086: val_loss did not improve from 0.25263\n",
            "Epoch 87/100\n",
            "31/31 [==============================] - 3s 111ms/step - loss: 0.2716 - accuracy: 0.8857 - val_loss: 0.2753 - val_accuracy: 0.8934\n",
            "\n",
            "Epoch 00087: val_loss did not improve from 0.25263\n",
            "Epoch 88/100\n",
            "31/31 [==============================] - 4s 112ms/step - loss: 0.2913 - accuracy: 0.8659 - val_loss: 0.2688 - val_accuracy: 0.9034\n",
            "\n",
            "Epoch 00088: val_loss did not improve from 0.25263\n",
            "Epoch 89/100\n",
            "31/31 [==============================] - 4s 113ms/step - loss: 0.2851 - accuracy: 0.8753 - val_loss: 0.3071 - val_accuracy: 0.8692\n",
            "\n",
            "Epoch 00089: val_loss did not improve from 0.25263\n",
            "Epoch 90/100\n",
            "31/31 [==============================] - 4s 114ms/step - loss: 0.2912 - accuracy: 0.8695 - val_loss: 0.3750 - val_accuracy: 0.8410\n",
            "\n",
            "Epoch 00090: val_loss did not improve from 0.25263\n",
            "Epoch 91/100\n",
            "31/31 [==============================] - 4s 112ms/step - loss: 0.3068 - accuracy: 0.8714 - val_loss: 0.3049 - val_accuracy: 0.8692\n",
            "\n",
            "Epoch 00091: val_loss did not improve from 0.25263\n",
            "Epoch 92/100\n",
            "31/31 [==============================] - 4s 113ms/step - loss: 0.2644 - accuracy: 0.8796 - val_loss: 0.2656 - val_accuracy: 0.9054\n",
            "\n",
            "Epoch 00092: val_loss did not improve from 0.25263\n",
            "Epoch 93/100\n",
            "31/31 [==============================] - 4s 112ms/step - loss: 0.2717 - accuracy: 0.8820 - val_loss: 0.2698 - val_accuracy: 0.8954\n",
            "\n",
            "Epoch 00093: val_loss did not improve from 0.25263\n",
            "Epoch 94/100\n",
            "31/31 [==============================] - 4s 113ms/step - loss: 0.2912 - accuracy: 0.8714 - val_loss: 0.2652 - val_accuracy: 0.8974\n",
            "\n",
            "Epoch 00094: val_loss did not improve from 0.25263\n",
            "Epoch 95/100\n",
            "31/31 [==============================] - 4s 113ms/step - loss: 0.2818 - accuracy: 0.8678 - val_loss: 0.2929 - val_accuracy: 0.8753\n",
            "\n",
            "Epoch 00095: val_loss did not improve from 0.25263\n",
            "Epoch 96/100\n",
            "31/31 [==============================] - 4s 113ms/step - loss: 0.2729 - accuracy: 0.8898 - val_loss: 0.2755 - val_accuracy: 0.8934\n",
            "\n",
            "Epoch 00096: val_loss did not improve from 0.25263\n",
            "Epoch 97/100\n",
            "31/31 [==============================] - 4s 113ms/step - loss: 0.2564 - accuracy: 0.8938 - val_loss: 0.2640 - val_accuracy: 0.9095\n",
            "\n",
            "Epoch 00097: val_loss did not improve from 0.25263\n",
            "Epoch 98/100\n",
            "31/31 [==============================] - 4s 112ms/step - loss: 0.2995 - accuracy: 0.8641 - val_loss: 0.2813 - val_accuracy: 0.8873\n",
            "\n",
            "Epoch 00098: val_loss did not improve from 0.25263\n",
            "Epoch 99/100\n",
            "31/31 [==============================] - 4s 111ms/step - loss: 0.3093 - accuracy: 0.8666 - val_loss: 0.3008 - val_accuracy: 0.8712\n",
            "\n",
            "Epoch 00099: val_loss did not improve from 0.25263\n",
            "Epoch 100/100\n",
            "31/31 [==============================] - 4s 112ms/step - loss: 0.2638 - accuracy: 0.8858 - val_loss: 0.3164 - val_accuracy: 0.8571\n",
            "\n",
            "Epoch 00100: val_loss did not improve from 0.25263\n"
          ],
          "name": "stdout"
        }
      ]
    },
    {
      "cell_type": "markdown",
      "metadata": {
        "id": "EJHImwyDx40f"
      },
      "source": [
        "**Plot the Results**"
      ]
    },
    {
      "cell_type": "code",
      "metadata": {
        "id": "8Wgt_QeG-NQx"
      },
      "source": [
        "acc = history.history['accuracy']\n",
        "val_acc = history.history['val_accuracy']\n",
        "loss = history.history['loss']\n",
        "val_loss = history.history['val_loss']"
      ],
      "execution_count": null,
      "outputs": []
    },
    {
      "cell_type": "code",
      "metadata": {
        "colab": {
          "base_uri": "https://localhost:8080/",
          "height": 298
        },
        "id": "JDH2QVT-B4A7",
        "outputId": "239be626-accf-4698-c028-7c6069027c4d"
      },
      "source": [
        "epochs = range(len(acc))\n",
        "plt.plot(epochs, acc, 'r', label='Training accuracy')\n",
        "plt.plot(epochs, val_acc, 'b', label='Validation accuracy')\n",
        "plt.title('TraiN & Val Acc VS Epochs')\n",
        "plt.legend(loc=0)\n",
        "plt.figure()\n",
        "plt.show()"
      ],
      "execution_count": null,
      "outputs": [
        {
          "output_type": "display_data",
          "data": {
            "image/png": "[encoded data removed]",
            "text/plain": [
              "<Figure size 432x288 with 1 Axes>"
            ]
          },
          "metadata": {
            "tags": [],
            "needs_background": "light"
          }
        },
        {
          "output_type": "display_data",
          "data": {
            "text/plain": [
              "<Figure size 432x288 with 0 Axes>"
            ]
          },
          "metadata": {
            "tags": []
          }
        }
      ]
    },
    {
      "cell_type": "code",
      "metadata": {
        "colab": {
          "base_uri": "https://localhost:8080/",
          "height": 298
        },
        "id": "2yT_i3mtB4zC",
        "outputId": "b4af66f6-8c33-4f0c-dc7e-807501903ce6"
      },
      "source": [
        "epochs = range(len(acc))\n",
        "plt.plot(epochs, loss, 'r', label='Training Loss')\n",
        "plt.plot(epochs, val_loss, 'b', label='Validation Loss')\n",
        "plt.title('TraiN & Val Loss VS Epochs')\n",
        "plt.legend(loc=0)\n",
        "plt.figure()\n",
        "plt.show()"
      ],
      "execution_count": null,
      "outputs": [
        {
          "output_type": "display_data",
          "data": {
            "image/png": "[encoded data removed]",
            "text/plain": [
              "<Figure size 432x288 with 1 Axes>"
            ]
          },
          "metadata": {
            "tags": [],
            "needs_background": "light"
          }
        },
        {
          "output_type": "display_data",
          "data": {
            "text/plain": [
              "<Figure size 432x288 with 0 Axes>"
            ]
          },
          "metadata": {
            "tags": []
          }
        }
      ]
    },
    {
      "cell_type": "code",
      "metadata": {
        "colab": {
          "base_uri": "https://localhost:8080/"
        },
        "id": "MLDbYtkfAZoT",
        "outputId": "24d33ad3-d5fd-467e-a3d3-2a85da9496da"
      },
      "source": [
        "model.load_weights(\"ResNet50_Model.hdf5\")\n",
        "score = model.evaluate(X_val, Y_val ,verbose=1)\n",
        "print('Test Loss:', score[0])\n",
        "print('Test accuracy:', score[1]*100)"
      ],
      "execution_count": null,
      "outputs": [
        {
          "output_type": "stream",
          "text": [
            "16/16 [==============================] - 0s 23ms/step - loss: 0.2526 - accuracy: 0.9095\n",
            "Test Loss: 0.2526327967643738\n",
            "Test accuracy: 90.9456729888916\n"
          ],
          "name": "stdout"
        }
      ]
    },
    {
      "cell_type": "code",
      "metadata": {
        "colab": {
          "base_uri": "https://localhost:8080/",
          "height": 298
        },
        "id": "53FrHSBZIwBX",
        "outputId": "7fabab3b-2493-4105-c2b3-65aeee160ae6"
      },
      "source": [
        "Y_pred = model.predict(X_val)\n",
        "Y_predx = np.argmax(Y_pred, axis = -1)\n",
        "Y_valx = np.argmax(Y_val, axis = -1)\n",
        "cf_matrix = confusion_matrix(Y_valx, Y_predx)\n",
        "group_names = ['True Neg','False Pos','False Neg','True Pos']\n",
        "group_counts = [\"{0:0.0f}\".format(value) for value in\n",
        "                cf_matrix.flatten()]\n",
        "group_percentages = [\"{0:.2%}\".format(value) for value in\n",
        "                     cf_matrix.flatten()/np.sum(cf_matrix)]\n",
        "labels = [f\"{v1}\\n{v2}\\n{v3}\" for v1, v2, v3 in\n",
        "          zip(group_names,group_counts,group_percentages)]\n",
        "labels = np.asarray(labels).reshape(2,2)\n",
        "sns.heatmap(cf_matrix, annot = labels, fmt = '')\n",
        "plt.title(\"Confusion Matrix\")"
      ],
      "execution_count": null,
      "outputs": [
        {
          "output_type": "execute_result",
          "data": {
            "text/plain": [
              "Text(0.5, 1.0, 'Confusion Matrix')"
            ]
          },
          "metadata": {
            "tags": []
          },
          "execution_count": 56
        },
        {
          "output_type": "display_data",
          "data": {
            "image/png": "[encoded data removed]",
            "text/plain": [
              "<Figure size 432x288 with 2 Axes>"
            ]
          },
          "metadata": {
            "tags": [],
            "needs_background": "light"
          }
        }
      ]
    },
    {
      "cell_type": "code",
      "metadata": {
        "id": "Fvm8fa3gJMCx"
      },
      "source": [
        "        "
      ],
      "execution_count": null,
      "outputs": []
    }
  ]
}